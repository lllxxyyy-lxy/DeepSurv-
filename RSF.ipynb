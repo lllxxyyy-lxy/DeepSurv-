{
 "cells": [
  {
   "cell_type": "code",
   "execution_count": 1,
   "metadata": {},
   "outputs": [],
   "source": [
    "from pysurvival.models.survival_forest import RandomSurvivalForestModel\n",
    "from pysurvival.utils.metrics import concordance_index\n",
    "from pysurvival.utils._metrics import _concordance_index"
   ]
  },
  {
   "cell_type": "code",
   "execution_count": 2,
   "metadata": {},
   "outputs": [],
   "source": [
    "import numpy as np\n",
    "import h5py\n",
    "import time\n",
    "import math\n",
    "from scipy import stats"
   ]
  },
  {
   "cell_type": "code",
   "execution_count": 8,
   "metadata": {},
   "outputs": [],
   "source": [
    "class SurvivalDataset(Dataset):\n",
    "    def __init__(self, h5_file, is_train):\n",
    "        self.X, self.e, self.y = self._read_h5_file(h5_file, is_train)\n",
    "        self._normalize()\n",
    "        if is_train:\n",
    "            print('train data => load {} samples'.format(self.X.shape[0]))\n",
    "        else :\n",
    "            print('test data => load {} samples'.format(self.X.shape[0]))\n",
    "\n",
    "    def _read_h5_file(self, h5_file, is_train):\n",
    "        split = 'train' if is_train else 'test'\n",
    "        with h5py.File(h5_file, 'r') as f:\n",
    "            X = f[split]['x'][()]\n",
    "            e = f[split]['e'][()].reshape(-1, 1)\n",
    "            y = f[split]['t'][()].reshape(-1, 1)\n",
    "        return X, e, y\n",
    "\n",
    "    def _normalize(self):  \n",
    "        self.X = (self.X-self.X.min(axis=0)) /  (self.X.max(axis=0)-self.X.min(axis=0))\n",
    "\n",
    "    def __getitem__(self, item):\n",
    "        X_item = self.X[item] \n",
    "        e_item = self.e[item] \n",
    "        y_item = self.y[item] \n",
    "\n",
    "        X_tensor = torch.from_numpy(X_item)\n",
    "        e_tensor = torch.from_numpy(e_item)\n",
    "        y_tensor = torch.from_numpy(y_item)\n",
    "        return X_tensor, y_tensor, e_tensor\n",
    "\n",
    "    def __len__(self):\n",
    "        return self.X.shape[0]"
   ]
  },
  {
   "cell_type": "code",
   "execution_count": 9,
   "metadata": {},
   "outputs": [
    {
     "name": "stdout",
     "output_type": "stream",
     "text": [
      "train data => load 4000 samples\n",
      "test data => load 1000 samples\n"
     ]
    }
   ],
   "source": [
    "path = 'bmc_data/gaussian/gaussian_survival_data.h5'\n",
    "train_dataset = SurvivalDataset(path, is_train = True)\n",
    "test_dataset = SurvivalDataset(path, is_train = False)"
   ]
  },
  {
   "cell_type": "code",
   "execution_count": 10,
   "metadata": {},
   "outputs": [],
   "source": [
    "X_train, y_train, e_train= train_dataset.X, train_dataset.y, train_dataset.e\n",
    "\n",
    "X_test, y_test, e_test= test_dataset.X, test_dataset.y, test_dataset.e"
   ]
  },
  {
   "cell_type": "code",
   "execution_count": 12,
   "metadata": {},
   "outputs": [],
   "source": [
    "\n",
    "epoch = 100\n",
    "train_c = []\n",
    "val_c = []\n",
    "for i in range(epoch):\n",
    "    \n",
    "    rsf = RandomSurvivalForestModel(num_trees = 200)\n",
    "    rsf.fit(X_train, y_train, e_train, max_features = \"sqrt\", max_depth=5, min_node_size=20)\n",
    "    risk = rsf.predict_risk(X_test)\n",
    "    results = _concordance_index(risk, y_test, e_test)\n",
    "    train_c.append(results[0])"
   ]
  },
  {
   "cell_type": "code",
   "execution_count": null,
   "metadata": {},
   "outputs": [
    {
     "ename": "NameError",
     "evalue": "name 'np' is not defined",
     "output_type": "error",
     "traceback": [
      "\u001b[0;31m---------------------------------------------------------------------------\u001b[0m",
      "\u001b[0;31mNameError\u001b[0m                                 Traceback (most recent call last)",
      "\u001b[1;32m/Users/lxy/Desktop/RSF/RSF.ipynb Cell 7\u001b[0m in \u001b[0;36m<cell line: 1>\u001b[0;34m()\u001b[0m\n\u001b[0;32m----> <a href='vscode-notebook-cell:/Users/lxy/Desktop/RSF/RSF.ipynb#W6sZmlsZQ%3D%3D?line=0'>1</a>\u001b[0m train_c \u001b[39m=\u001b[39m np\u001b[39m.\u001b[39marray(train_c)\n\u001b[1;32m      <a href='vscode-notebook-cell:/Users/lxy/Desktop/RSF/RSF.ipynb#W6sZmlsZQ%3D%3D?line=1'>2</a>\u001b[0m train_mean \u001b[39m=\u001b[39m train_c\u001b[39m.\u001b[39mmean()\n\u001b[1;32m      <a href='vscode-notebook-cell:/Users/lxy/Desktop/RSF/RSF.ipynb#W6sZmlsZQ%3D%3D?line=2'>3</a>\u001b[0m train_std \u001b[39m=\u001b[39m train_c\u001b[39m.\u001b[39mstd()\n",
      "\u001b[0;31mNameError\u001b[0m: name 'np' is not defined"
     ]
    }
   ],
   "source": [
    "train_c = np.array(train_c)\n",
    "train_mean = train_c.mean()\n",
    "train_std = train_c.std()\n",
    "conf_intveral = stats.norm.interval(0.95, loc = train_mean, scale = train_std)\n",
    "print(train_mean)\n",
    "print(conf_intveral)"
   ]
  },
  {
   "cell_type": "code",
   "execution_count": null,
   "metadata": {},
   "outputs": [],
   "source": []
  },
  {
   "cell_type": "code",
   "execution_count": null,
   "metadata": {},
   "outputs": [],
   "source": []
  }
 ],
 "metadata": {
  "kernelspec": {
   "display_name": "Python 3.8.13 ('pytorch')",
   "language": "python",
   "name": "python3"
  },
  "language_info": {
   "codemirror_mode": {
    "name": "ipython",
    "version": 3
   },
   "file_extension": ".py",
   "mimetype": "text/x-python",
   "name": "python",
   "nbconvert_exporter": "python",
   "pygments_lexer": "ipython3",
   "version": "3.8.13"
  },
  "orig_nbformat": 4,
  "vscode": {
   "interpreter": {
    "hash": "f5b916051ec391ef3c1c0123575e59cad2c35863d294dd079abc5845c0e5babb"
   }
  }
 },
 "nbformat": 4,
 "nbformat_minor": 2
}
